{
 "cells": [
  {
   "cell_type": "code",
   "execution_count": 51,
   "metadata": {},
   "outputs": [
    {
     "name": "stdout",
     "output_type": "stream",
     "text": [
      "1\n",
      "3\n",
      "3\n",
      "7\n"
     ]
    }
   ],
   "source": [
    "def solution(N):\n",
    "    cnt = 0\n",
    "    my_list=[]\n",
    "    bin_num = format(N,\"b\")\n",
    "    for i in bin_num:\n",
    "        if (i ==\"1\"):\n",
    "            my_list.append(cnt)\n",
    "            cnt =0\n",
    "        else:\n",
    "            cnt +=1\n",
    "    return max(my_list)\n",
    "\n",
    "print(solution(5))\n",
    "print(solution(17))\n",
    "print(solution(68))\n",
    "print(solution(10000000000000000000000000000000))"
   ]
  },
  {
   "cell_type": "code",
   "execution_count": 35,
   "metadata": {},
   "outputs": [
    {
     "name": "stdout",
     "output_type": "stream",
     "text": [
      "2\n",
      "2\n",
      "8\n"
     ]
    }
   ],
   "source": [
    "#short version but with the help of the Internet\n",
    "def solution(N):\n",
    "    return len(max(format(N, 'b').strip('0').strip('1').split('1')))\n",
    "\n",
    "print(solution(228))\n",
    "print(solution(228))\n",
    "print(solution(10000000000000000000000000000000000000))"
   ]
  }
 ],
 "metadata": {
  "kernelspec": {
   "display_name": "Python 3",
   "language": "python",
   "name": "python3"
  },
  "language_info": {
   "codemirror_mode": {
    "name": "ipython",
    "version": 3
   },
   "file_extension": ".py",
   "mimetype": "text/x-python",
   "name": "python",
   "nbconvert_exporter": "python",
   "pygments_lexer": "ipython3",
   "version": "3.8.5"
  }
 },
 "nbformat": 4,
 "nbformat_minor": 4
}
